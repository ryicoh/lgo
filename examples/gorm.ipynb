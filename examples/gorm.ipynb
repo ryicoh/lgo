{
 "cells": [
  {
   "cell_type": "code",
   "execution_count": 3,
   "metadata": {},
   "outputs": [],
   "source": [
    "import (\n",
    "    \"fmt\"\n",
    "    _ \"github.com/go-sql-driver/mysql\"\n",
    "    \"github.com/jinzhu/gorm\"\n",
    ")"
   ]
  },
  {
   "cell_type": "code",
   "execution_count": 4,
   "metadata": {},
   "outputs": [],
   "source": [
    "db, err := gorm.Open(\"mysql\", \"root@tcp(mysql:3306)/jupyter?charset=utf8&parseTime=True&loc=Local\")\n",
    "if err != nil {\n",
    "    fmt.Println(err)\n",
    "}"
   ]
  },
  {
   "cell_type": "code",
   "execution_count": 9,
   "metadata": {},
   "outputs": [
    {
     "name": "stdout",
     "output_type": "stream",
     "text": [
      "<nil>\n",
      "<nil>\n"
     ]
    }
   ],
   "source": [
    "type ObjectA struct {\n",
    "    ID int64\n",
    "    name string\n",
    "    ObjectBs []*ObjectB `gorm:\"many2many:object_a_object_bs\"`\n",
    "}\n",
    "\n",
    "db.AutoMigrate(&ObjectA{})\n",
    "type ObjectB struct {\n",
    "    ID int64\n",
    "    title string\n",
    "    ObjectAs []*ObjectA `gorm:\"many2many:object_a_object_bs\"`\n",
    "}\n",
    "db.AutoMigrate(&ObjectB{})\n",
    "b := &ObjectB{title: \"title\"}\n",
    "\n",
    "fmt.Println(db.Create(b).Error)\n",
    "\n",
    "a := &ObjectA{\n",
    "    name: \"aaa\",\n",
    "    ObjectBs: []*ObjectB{\n",
    "        b,\n",
    "    },\n",
    "}\n",
    "db.Create(a).Error"
   ]
  },
  {
   "cell_type": "code",
   "execution_count": null,
   "metadata": {},
   "outputs": [],
   "source": []
  },
  {
   "cell_type": "code",
   "execution_count": 10,
   "metadata": {},
   "outputs": [],
   "source": [
    "type Company struct {\n",
    "\tID         int64\n",
    "\tUID        string  `gorm:\"unique_index; not null\"`\n",
    "\tName       string  `validate:\"required\"`\n",
    "\tTrunkToken string  `validate:\"required\" form:\"trunk_token\"`\n",
    "\tUsers      []*User `gorm:\"many2many:company_users\"`\n",
    "}\n",
    "\n",
    "type User struct {\n",
    "\tID                  int64\n",
    "\tUID                 string\n",
    "\tFirstName           string `validate:\"required\"`\n",
    "\tLastName            string\n",
    "\tIcon                string\n",
    "\tExp                 int\n",
    "\tTrunkToken          string `form:\"trunk_token\"`\n",
    "\tCompanies           []*Company `gorm:\"many2many:company_users\"`\n",
    "}"
   ]
  },
  {
   "cell_type": "code",
   "execution_count": 11,
   "metadata": {},
   "outputs": [
    {
     "name": "stdout",
     "output_type": "stream",
     "text": [
      "<nil>\n"
     ]
    }
   ],
   "source": [
    "e := &Company{UID: \"aaaca\", TrunkToken: \"bebst\", Name: \"a\"}\n",
    "db.Create(e).Error"
   ]
  },
  {
   "cell_type": "code",
   "execution_count": 13,
   "metadata": {},
   "outputs": [
    {
     "name": "stdout",
     "output_type": "stream",
     "text": [
      "<nil>\n"
     ]
    }
   ],
   "source": [
    "u := &User{UID: \"aaaca\", FirstName: \"n\", TrunkToken: \"besbt\"}\n",
    "db.Create(u).Error"
   ]
  },
  {
   "cell_type": "code",
   "execution_count": 15,
   "metadata": {},
   "outputs": [],
   "source": [
    "u.Companies = []*Company{e}"
   ]
  },
  {
   "cell_type": "code",
   "execution_count": 17,
   "metadata": {},
   "outputs": [
    {
     "name": "stdout",
     "output_type": "stream",
     "text": [
      "<nil>\n"
     ]
    }
   ],
   "source": [
    "db.Update(u, u).Error"
   ]
  },
  {
   "cell_type": "code",
   "execution_count": null,
   "metadata": {},
   "outputs": [],
   "source": []
  }
 ],
 "metadata": {
  "kernelspec": {
   "display_name": "Go (lgo)",
   "language": "go",
   "name": "lgo"
  },
  "language_info": {
   "file_extension": "",
   "mimetype": "",
   "name": "go",
   "version": ""
  }
 },
 "nbformat": 4,
 "nbformat_minor": 2
}
